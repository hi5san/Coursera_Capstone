{
    "nbformat_minor": 1, 
    "cells": [
        {
            "source": "# Notebook for Coursera Capstone project", 
            "cell_type": "markdown", 
            "metadata": {
                "collapsed": true
            }
        }, 
        {
            "source": "# week 1", 
            "cell_type": "markdown", 
            "metadata": {}
        }, 
        {
            "execution_count": 74, 
            "cell_type": "code", 
            "metadata": {}, 
            "outputs": [], 
            "source": "# import libs\nimport numpy as np  # useful for many scientific computing in Python\nimport pandas as pd # primary data structure library"
        }, 
        {
            "execution_count": 75, 
            "cell_type": "code", 
            "metadata": {}, 
            "outputs": [
                {
                    "output_type": "stream", 
                    "name": "stdout", 
                    "text": "Hello Capstone Project Course!\n"
                }
            ], 
            "source": "print(\"Hello Capstone Project Course!\")"
        }, 
        {
            "source": "[Watson Studio share link](https://jp-tok.dataplatform.cloud.ibm.com/analytics/notebooks/v2/1f93ac15-f21b-449c-b6da-ac9ed73e778a/view?access_token=25d992bd79bc2469e5a1a6f3ebb529d4e3e3d7fa53822dd1dae17ff79a45995c)", 
            "cell_type": "markdown", 
            "metadata": {}
        }, 
        {
            "source": "# week 3", 
            "cell_type": "markdown", 
            "metadata": {}
        }, 
        {
            "execution_count": 76, 
            "cell_type": "code", 
            "metadata": {}, 
            "outputs": [], 
            "source": "# Setup\npd.options.display.max_rows = None\npd.options.display.max_columns = None\npd.options.display.max_colwidth = -1"
        }, 
        {
            "source": "## Read table from wikipedia.  The post code is contained in  the first 'Postcode' table.", 
            "cell_type": "markdown", 
            "metadata": {}
        }, 
        {
            "execution_count": 77, 
            "cell_type": "code", 
            "metadata": {}, 
            "outputs": [
                {
                    "execution_count": 77, 
                    "metadata": {}, 
                    "data": {
                        "text/html": "<div>\n<style scoped>\n    .dataframe tbody tr th:only-of-type {\n        vertical-align: middle;\n    }\n\n    .dataframe tbody tr th {\n        vertical-align: top;\n    }\n\n    .dataframe thead th {\n        text-align: right;\n    }\n</style>\n<table border=\"1\" class=\"dataframe\">\n  <thead>\n    <tr style=\"text-align: right;\">\n      <th></th>\n      <th>Postcode</th>\n      <th>Borough</th>\n      <th>Neighbourhood</th>\n    </tr>\n  </thead>\n  <tbody>\n    <tr>\n      <th>0</th>\n      <td>M1A</td>\n      <td>Not assigned</td>\n      <td>Not assigned</td>\n    </tr>\n    <tr>\n      <th>1</th>\n      <td>M2A</td>\n      <td>Not assigned</td>\n      <td>Not assigned</td>\n    </tr>\n    <tr>\n      <th>2</th>\n      <td>M3A</td>\n      <td>North York</td>\n      <td>Parkwoods</td>\n    </tr>\n    <tr>\n      <th>3</th>\n      <td>M4A</td>\n      <td>North York</td>\n      <td>Victoria Village</td>\n    </tr>\n    <tr>\n      <th>4</th>\n      <td>M5A</td>\n      <td>Downtown Toronto</td>\n      <td>Harbourfront</td>\n    </tr>\n  </tbody>\n</table>\n</div>", 
                        "text/plain": "  Postcode           Borough     Neighbourhood\n0  M1A      Not assigned      Not assigned    \n1  M2A      Not assigned      Not assigned    \n2  M3A      North York        Parkwoods       \n3  M4A      North York        Victoria Village\n4  M5A      Downtown Toronto  Harbourfront    "
                    }, 
                    "output_type": "execute_result"
                }
            ], 
            "source": "url = 'https://en.wikipedia.org/wiki/List_of_postal_codes_of_Canada:_M'\ndfs = pd.read_html(url, match='Postcode', header=0)\npostcode=dfs[0]\n#print(type(postcode))\n#print(postcode.shape)\npostcode.head()"
        }, 
        {
            "source": "## Remove Not Assigned Boroughs", 
            "cell_type": "markdown", 
            "metadata": {}
        }, 
        {
            "execution_count": 78, 
            "cell_type": "code", 
            "metadata": {}, 
            "outputs": [
                {
                    "execution_count": 78, 
                    "metadata": {}, 
                    "data": {
                        "text/html": "<div>\n<style scoped>\n    .dataframe tbody tr th:only-of-type {\n        vertical-align: middle;\n    }\n\n    .dataframe tbody tr th {\n        vertical-align: top;\n    }\n\n    .dataframe thead th {\n        text-align: right;\n    }\n</style>\n<table border=\"1\" class=\"dataframe\">\n  <thead>\n    <tr style=\"text-align: right;\">\n      <th></th>\n      <th>Postcode</th>\n      <th>Borough</th>\n      <th>Neighbourhood</th>\n    </tr>\n  </thead>\n  <tbody>\n    <tr>\n      <th>2</th>\n      <td>M3A</td>\n      <td>North York</td>\n      <td>Parkwoods</td>\n    </tr>\n    <tr>\n      <th>3</th>\n      <td>M4A</td>\n      <td>North York</td>\n      <td>Victoria Village</td>\n    </tr>\n    <tr>\n      <th>4</th>\n      <td>M5A</td>\n      <td>Downtown Toronto</td>\n      <td>Harbourfront</td>\n    </tr>\n    <tr>\n      <th>5</th>\n      <td>M5A</td>\n      <td>Downtown Toronto</td>\n      <td>Regent Park</td>\n    </tr>\n    <tr>\n      <th>6</th>\n      <td>M6A</td>\n      <td>North York</td>\n      <td>Lawrence Heights</td>\n    </tr>\n  </tbody>\n</table>\n</div>", 
                        "text/plain": "  Postcode           Borough     Neighbourhood\n2  M3A      North York        Parkwoods       \n3  M4A      North York        Victoria Village\n4  M5A      Downtown Toronto  Harbourfront    \n5  M5A      Downtown Toronto  Regent Park     \n6  M6A      North York        Lawrence Heights"
                    }, 
                    "output_type": "execute_result"
                }
            ], 
            "source": "# remove Not assigned\npostcode_edit=postcode[postcode['Borough']!='Not assigned']\npostcode_edit.head()"
        }, 
        {
            "source": "## Replace NA Neighbourhoods with its Borough", 
            "cell_type": "markdown", 
            "metadata": {}
        }, 
        {
            "execution_count": 79, 
            "cell_type": "code", 
            "metadata": {}, 
            "outputs": [
                {
                    "output_type": "stream", 
                    "name": "stderr", 
                    "text": "/opt/conda/envs/Python36/lib/python3.6/site-packages/pandas/core/indexing.py:190: SettingWithCopyWarning: \nA value is trying to be set on a copy of a slice from a DataFrame\n\nSee the caveats in the documentation: http://pandas.pydata.org/pandas-docs/stable/indexing.html#indexing-view-versus-copy\n  self._setitem_with_indexer(indexer, value)\n/opt/conda/envs/Python36/lib/python3.6/site-packages/ipykernel/__main__.py:3: SettingWithCopyWarning: \nA value is trying to be set on a copy of a slice from a DataFrame\n\nSee the caveats in the documentation: http://pandas.pydata.org/pandas-docs/stable/indexing.html#indexing-view-versus-copy\n  app.launch_new_instance()\n"
                }, 
                {
                    "execution_count": 79, 
                    "metadata": {}, 
                    "data": {
                        "text/html": "<div>\n<style scoped>\n    .dataframe tbody tr th:only-of-type {\n        vertical-align: middle;\n    }\n\n    .dataframe tbody tr th {\n        vertical-align: top;\n    }\n\n    .dataframe thead th {\n        text-align: right;\n    }\n</style>\n<table border=\"1\" class=\"dataframe\">\n  <thead>\n    <tr style=\"text-align: right;\">\n      <th></th>\n      <th>Postcode</th>\n      <th>Borough</th>\n      <th>Neighbourhood</th>\n    </tr>\n  </thead>\n  <tbody>\n    <tr>\n      <th>8</th>\n      <td>M7A</td>\n      <td>Queen's Park</td>\n      <td>Queen's Park</td>\n    </tr>\n  </tbody>\n</table>\n</div>", 
                        "text/plain": "  Postcode       Borough Neighbourhood\n8  M7A      Queen's Park  Queen's Park"
                    }, 
                    "output_type": "execute_result"
                }
            ], 
            "source": "# set Borough for Not assigned Neighbourhood\nidx=postcode_edit['Neighbourhood']=='Not assigned'\npostcode_edit.loc[idx, 'Neighbourhood']=postcode_edit.loc[idx, 'Borough']\n#postcode_edit.set_index('Postcode').reset_index()\npostcode_edit[idx]"
        }, 
        {
            "source": "## group and join same postcode and Borough", 
            "cell_type": "markdown", 
            "metadata": {}
        }, 
        {
            "execution_count": 80, 
            "cell_type": "code", 
            "metadata": {}, 
            "outputs": [
                {
                    "execution_count": 80, 
                    "metadata": {}, 
                    "data": {
                        "text/html": "<div>\n<style scoped>\n    .dataframe tbody tr th:only-of-type {\n        vertical-align: middle;\n    }\n\n    .dataframe tbody tr th {\n        vertical-align: top;\n    }\n\n    .dataframe thead th {\n        text-align: right;\n    }\n</style>\n<table border=\"1\" class=\"dataframe\">\n  <thead>\n    <tr style=\"text-align: right;\">\n      <th></th>\n      <th>Postcode</th>\n      <th>Borough</th>\n      <th>Neighbourhood</th>\n    </tr>\n  </thead>\n  <tbody>\n    <tr>\n      <th>0</th>\n      <td>M3A</td>\n      <td>North York</td>\n      <td>Parkwoods</td>\n    </tr>\n    <tr>\n      <th>1</th>\n      <td>M4A</td>\n      <td>North York</td>\n      <td>Victoria Village</td>\n    </tr>\n    <tr>\n      <th>2</th>\n      <td>M5A</td>\n      <td>Downtown Toronto</td>\n      <td>Harbourfront,Regent Park</td>\n    </tr>\n    <tr>\n      <th>3</th>\n      <td>M6A</td>\n      <td>North York</td>\n      <td>Lawrence Heights,Lawrence Manor</td>\n    </tr>\n    <tr>\n      <th>4</th>\n      <td>M7A</td>\n      <td>Queen's Park</td>\n      <td>Queen's Park</td>\n    </tr>\n  </tbody>\n</table>\n</div>", 
                        "text/plain": "  Postcode           Borough                    Neighbourhood\n0  M3A      North York        Parkwoods                      \n1  M4A      North York        Victoria Village               \n2  M5A      Downtown Toronto  Harbourfront,Regent Park       \n3  M6A      North York        Lawrence Heights,Lawrence Manor\n4  M7A      Queen's Park      Queen's Park                   "
                    }, 
                    "output_type": "execute_result"
                }
            ], 
            "source": "pcdata = postcode_edit.groupby(['Postcode', 'Borough'], sort=False)['Neighbourhood'].apply(lambda x: ','.join(x.astype(str))).reset_index()\npcdata.head()"
        }, 
        {
            "source": "## Shape of final dataframe", 
            "cell_type": "markdown", 
            "metadata": {}
        }, 
        {
            "execution_count": 81, 
            "cell_type": "code", 
            "metadata": {}, 
            "outputs": [
                {
                    "execution_count": 81, 
                    "metadata": {}, 
                    "data": {
                        "text/plain": "(103, 3)"
                    }, 
                    "output_type": "execute_result"
                }
            ], 
            "source": "pcdata.shape"
        }, 
        {
            "source": "# week3-part2", 
            "cell_type": "markdown", 
            "metadata": {}
        }, 
        {
            "source": "## setup geocoder", 
            "cell_type": "markdown", 
            "metadata": {}
        }, 
        {
            "execution_count": 82, 
            "cell_type": "code", 
            "metadata": {}, 
            "outputs": [
                {
                    "output_type": "stream", 
                    "name": "stdout", 
                    "text": "Requirement already satisfied: geocoder in /opt/conda/envs/Python36/lib/python3.6/site-packages (1.38.1)\nRequirement already satisfied: future in /opt/conda/envs/Python36/lib/python3.6/site-packages (from geocoder) (0.17.1)\nRequirement already satisfied: click in /opt/conda/envs/Python36/lib/python3.6/site-packages (from geocoder) (7.0)\nRequirement already satisfied: requests in /opt/conda/envs/Python36/lib/python3.6/site-packages (from geocoder) (2.21.0)\nRequirement already satisfied: ratelim in /opt/conda/envs/Python36/lib/python3.6/site-packages (from geocoder) (0.1.6)\nRequirement already satisfied: six in /opt/conda/envs/Python36/lib/python3.6/site-packages (from geocoder) (1.12.0)\nRequirement already satisfied: chardet<3.1.0,>=3.0.2 in /opt/conda/envs/Python36/lib/python3.6/site-packages (from requests->geocoder) (3.0.4)\nRequirement already satisfied: urllib3<1.25,>=1.21.1 in /opt/conda/envs/Python36/lib/python3.6/site-packages (from requests->geocoder) (1.24.1)\nRequirement already satisfied: certifi>=2017.4.17 in /opt/conda/envs/Python36/lib/python3.6/site-packages (from requests->geocoder) (2019.6.16)\nRequirement already satisfied: idna<2.9,>=2.5 in /opt/conda/envs/Python36/lib/python3.6/site-packages (from requests->geocoder) (2.8)\nRequirement already satisfied: decorator in /opt/conda/envs/Python36/lib/python3.6/site-packages (from ratelim->geocoder) (4.3.2)\n"
                }
            ], 
            "source": "!pip install geocoder\nimport geocoder # import geocoder"
        }, 
        {
            "source": "## Define util function for geocoder", 
            "cell_type": "markdown", 
            "metadata": {}
        }, 
        {
            "execution_count": 83, 
            "cell_type": "code", 
            "metadata": {}, 
            "outputs": [], 
            "source": "def findlonlat_geocoder(postal_code):\n    # initialize your variable to None\n    lat_lng_coords = None\n    \n    # loop until you get the coordinates\n    while(lat_lng_coords is None):\n        #g = geocoder.google('{}, Toronto, Ontario'.format(postal_code)) # ACCESS_DENIED; probably require access token\n        # this seem to reliably work, Thanks to Joana Smith - https://www.coursera.org/learn/applied-data-science-capstone/profiles/08f0dfd5c661ddf3f9a548157003dff4\n        g = geocoder.arcgis('{}, Toronto, Ontario'.format(postal_code))\n        print('{}:{}'.format(postal_code, g.latlng))\n        lat_lng_coords = g.latlng\n\n    latitude = lat_lng_coords[0]\n    longitude = lat_lng_coords[1]\n    \n    return(latitude, longitude)"
        }, 
        {
            "source": "### test", 
            "cell_type": "markdown", 
            "metadata": {}
        }, 
        {
            "execution_count": 91, 
            "cell_type": "code", 
            "metadata": {}, 
            "outputs": [
                {
                    "output_type": "stream", 
                    "name": "stdout", 
                    "text": "M5G:[43.65609081300005, -79.38492999999994]\n"
                }, 
                {
                    "execution_count": 91, 
                    "metadata": {}, 
                    "data": {
                        "text/plain": "(43.65609081300005, -79.38492999999994)"
                    }, 
                    "output_type": "execute_result"
                }
            ], 
            "source": "findlonlat_geocoder('M5G')"
        }, 
        {
            "source": "## Add lonlat of each postal code", 
            "cell_type": "markdown", 
            "metadata": {}
        }, 
        {
            "execution_count": 85, 
            "cell_type": "code", 
            "metadata": {}, 
            "outputs": [
                {
                    "output_type": "stream", 
                    "name": "stdout", 
                    "text": "M3A:[43.752440000000036, -79.32927072599995]\nM4A:[43.730420577000075, -79.31331999999998]\nM5A:[43.65512000000007, -79.36263979699999]\nM6A:[43.72312500000004, -79.45158914699994]\nM7A:[43.66110229800006, -79.39103499999999]\nM9A:[43.662242201000026, -79.52837877199994]\nM1B:[43.811525000000074, -79.19551721399995]\nM3B:[43.74919500000004, -79.36190541699995]\nM4B:[43.707535000000064, -79.31177329699995]\nM5B:[43.65736301100003, -79.37817999999999]\nM6B:[43.70799000000005, -79.44836733199998]\nM9B:[43.64969222700006, -79.55394499999994]\nM1C:[43.78573000000006, -79.15874999999994]\nM3C:[43.72142500000007, -79.34345278999996]\nM4C:[43.68966500000005, -79.30716910999996]\nM5C:[43.65121000000005, -79.37548057699996]\nM6C:[43.692105179000066, -79.43035499999996]\nM9C:[43.648573449000025, -79.57824999999997]\nM1E:[43.76569000000006, -79.17525603599995]\nM4E:[43.67684518300007, -79.29522499999996]\nM5E:[43.64516015600003, -79.37367499999993]\nM6E:[43.68864000000008, -79.45101525299998]\nM1G:[43.76835912100006, -79.21758999999997]\nM4G:[43.70976500000006, -79.36390090899994]\nM5G:[43.65609081300005, -79.38492999999994]\nM6G:[43.66878132800008, -79.42070999999999]\nM1H:[43.76968799900004, -79.23943999999995]\nM2H:[43.80284500000005, -79.35623615099996]\nM3H:[43.757565000000056, -79.44819079299998]\nM4H:[43.70127000000008, -79.34984401799994]\nM5H:[43.649515000000065, -79.38250344699998]\nM6H:[43.66508694300006, -79.43870499999997]\nM1J:[43.74312500000008, -79.23174973599998]\nM2J:[43.780880000000025, -79.34779577599994]\nM3J:[43.764665000000036, -79.48718266299994]\nM4J:[43.688765344000046, -79.33417499999996]\nM5J:[43.623470000000054, -79.39150736399995]\nM6J:[43.64848500000005, -79.41774150899994]\nM1K:[43.726244585000074, -79.26366999999993]\nM2K:[43.781015000000025, -79.38054242199996]\nM3K:[43.73902625000005, -79.46731999999997]\nM4K:[43.68326150000007, -79.35511999999994]\nM5K:[43.64710000000008, -79.38153109899997]\nM6K:[43.639410000000055, -79.42436201999999]\nM1L:[43.71313321100007, -79.28505499999994]\nM2L:[43.75719200000003, -79.37986499999994]\nM3L:[43.74088500000005, -79.50502651899995]\nM4L:[43.66796500000004, -79.31467251099997]\nM5L:[43.648205000000075, -79.37879339899996]\nM6L:[43.71381000000008, -79.48830541199999]\nM9L:[43.75950000000006, -79.55685235299995]\nM1M:[43.72357500000004, -79.23497617799995]\nM2M:[43.79147500000005, -79.41360487299994]\nM3M:[43.73458500000004, -79.49315062599999]\nM4M:[43.662765652000076, -79.33482999999995]\nM5M:[43.735460000000046, -79.41916412899997]\nM6M:[43.69454500000006, -79.48464278099993]\nM9M:[43.733760000000075, -79.53752189499994]\nM1N:[43.69666500000005, -79.26016331599999]\nM2N:[43.76816500000007, -79.40741984599998]\nM3N:[43.755330601000026, -79.51958999999994]\nM4N:[43.72816000000006, -79.38708518799996]\nM5N:[43.711941154000044, -79.41911999999996]\nM6N:[43.67582500000003, -79.48205223199994]\nM9N:[43.704855000000066, -79.51755242199994]\nM1P:[43.759975000000054, -79.26897402899993]\nM2P:[43.74785500000007, -79.40006223799998]\nM4P:[43.712815000000035, -79.38852582199996]\nM5P:[43.69478500000008, -79.41440483299994]\nM6P:[43.65997500000003, -79.46287357999995]\nM9P:[43.696300000000065, -79.53039862799994]\nM1R:[43.750710464000065, -79.30055999999996]\nM2R:[43.77769500000005, -79.44579657299994]\nM4R:[43.71452278400005, -79.40695999999997]\nM5R:[43.674840000000074, -79.40369769099993]\nM6R:[43.64787000000007, -79.44976249999996]\nM7R:[43.648690000000045, -79.38543999999996]\nM9R:[43.686915000000056, -79.55727609599995]\nM1S:[43.79394000000008, -79.26798280099996]\nM4S:[43.70339500000006, -79.38596360499997]\nM5S:[43.663110000000074, -79.40180056699995]\nM6S:[43.64988500000004, -79.47492879599997]\nM1T:[43.78472500000004, -79.29904659999994]\nM4T:[43.69065500000005, -79.38356145799997]\nM5T:[43.65357000000006, -79.39724915699998]\nM1V:[43.817810000000065, -79.28024362199994]\nM4V:[43.68608285400006, -79.40233499999994]\nM5V:[43.64081500000003, -79.39953781899999]\nM8V:[43.60987000000006, -79.49817823899997]\nM9V:[43.743205000000046, -79.58470131599995]\nM1W:[43.80088094900003, -79.32073999999994]\nM4W:[43.681940000000054, -79.37847416699998]\nM5W:[43.648690000000045, -79.38543999999996]\nM8W:[43.60113082100003, -79.53878499999996]\nM9W:[43.71174000000008, -79.57918134599998]\nM1X:[43.83421500000003, -79.21670085099998]\nM4X:[43.66816000000006, -79.36660236199998]\nM5X:[43.64828000000006, -79.38146082599997]\nM8X:[43.65369000000004, -79.51111717299995]\nM4Y:[43.666585000000055, -79.38130203699995]\nM7Y:[43.648690000000045, -79.38543999999996]\nM8Y:[43.63276500000006, -79.48960141199996]\nM8Z:[43.624630000000025, -79.52694976199996]\n"
                }, 
                {
                    "execution_count": 85, 
                    "metadata": {}, 
                    "data": {
                        "text/html": "<div>\n<style scoped>\n    .dataframe tbody tr th:only-of-type {\n        vertical-align: middle;\n    }\n\n    .dataframe tbody tr th {\n        vertical-align: top;\n    }\n\n    .dataframe thead th {\n        text-align: right;\n    }\n</style>\n<table border=\"1\" class=\"dataframe\">\n  <thead>\n    <tr style=\"text-align: right;\">\n      <th></th>\n      <th>Latitude</th>\n      <th>Longitude</th>\n    </tr>\n  </thead>\n  <tbody>\n    <tr>\n      <th>0</th>\n      <td>43.752440</td>\n      <td>-79.329271</td>\n    </tr>\n    <tr>\n      <th>1</th>\n      <td>43.730421</td>\n      <td>-79.313320</td>\n    </tr>\n    <tr>\n      <th>2</th>\n      <td>43.655120</td>\n      <td>-79.362640</td>\n    </tr>\n    <tr>\n      <th>3</th>\n      <td>43.723125</td>\n      <td>-79.451589</td>\n    </tr>\n    <tr>\n      <th>4</th>\n      <td>43.661102</td>\n      <td>-79.391035</td>\n    </tr>\n  </tbody>\n</table>\n</div>", 
                        "text/plain": "    Latitude  Longitude\n0  43.752440 -79.329271\n1  43.730421 -79.313320\n2  43.655120 -79.362640\n3  43.723125 -79.451589\n4  43.661102 -79.391035"
                    }, 
                    "output_type": "execute_result"
                }
            ], 
            "source": "data = pcdata['Postcode'].apply(lambda x: pd.Series(findlonlat_geocoder(x)))\ndata.columns=['Latitude', 'Longitude']\ndata.head()"
        }, 
        {
            "source": "## concat geocode", 
            "cell_type": "markdown", 
            "metadata": {}
        }, 
        {
            "execution_count": 86, 
            "cell_type": "code", 
            "metadata": {}, 
            "outputs": [], 
            "source": "pcdata_new=pd.concat([pcdata, data], axis=1)"
        }, 
        {
            "execution_count": 89, 
            "cell_type": "code", 
            "metadata": {}, 
            "outputs": [
                {
                    "execution_count": 89, 
                    "metadata": {}, 
                    "data": {
                        "text/html": "<div>\n<style scoped>\n    .dataframe tbody tr th:only-of-type {\n        vertical-align: middle;\n    }\n\n    .dataframe tbody tr th {\n        vertical-align: top;\n    }\n\n    .dataframe thead th {\n        text-align: right;\n    }\n</style>\n<table border=\"1\" class=\"dataframe\">\n  <thead>\n    <tr style=\"text-align: right;\">\n      <th></th>\n      <th>Postcode</th>\n      <th>Borough</th>\n      <th>Neighbourhood</th>\n      <th>Latitude</th>\n      <th>Longitude</th>\n    </tr>\n  </thead>\n  <tbody>\n    <tr>\n      <th>0</th>\n      <td>M3A</td>\n      <td>North York</td>\n      <td>Parkwoods</td>\n      <td>43.752440</td>\n      <td>-79.329271</td>\n    </tr>\n    <tr>\n      <th>1</th>\n      <td>M4A</td>\n      <td>North York</td>\n      <td>Victoria Village</td>\n      <td>43.730421</td>\n      <td>-79.313320</td>\n    </tr>\n    <tr>\n      <th>2</th>\n      <td>M5A</td>\n      <td>Downtown Toronto</td>\n      <td>Harbourfront,Regent Park</td>\n      <td>43.655120</td>\n      <td>-79.362640</td>\n    </tr>\n    <tr>\n      <th>3</th>\n      <td>M6A</td>\n      <td>North York</td>\n      <td>Lawrence Heights,Lawrence Manor</td>\n      <td>43.723125</td>\n      <td>-79.451589</td>\n    </tr>\n    <tr>\n      <th>4</th>\n      <td>M7A</td>\n      <td>Queen's Park</td>\n      <td>Queen's Park</td>\n      <td>43.661102</td>\n      <td>-79.391035</td>\n    </tr>\n    <tr>\n      <th>5</th>\n      <td>M9A</td>\n      <td>Etobicoke</td>\n      <td>Islington Avenue</td>\n      <td>43.662242</td>\n      <td>-79.528379</td>\n    </tr>\n    <tr>\n      <th>6</th>\n      <td>M1B</td>\n      <td>Scarborough</td>\n      <td>Rouge,Malvern</td>\n      <td>43.811525</td>\n      <td>-79.195517</td>\n    </tr>\n    <tr>\n      <th>7</th>\n      <td>M3B</td>\n      <td>North York</td>\n      <td>Don Mills North</td>\n      <td>43.749195</td>\n      <td>-79.361905</td>\n    </tr>\n    <tr>\n      <th>8</th>\n      <td>M4B</td>\n      <td>East York</td>\n      <td>Woodbine Gardens,Parkview Hill</td>\n      <td>43.707535</td>\n      <td>-79.311773</td>\n    </tr>\n    <tr>\n      <th>9</th>\n      <td>M5B</td>\n      <td>Downtown Toronto</td>\n      <td>Ryerson,Garden District</td>\n      <td>43.657363</td>\n      <td>-79.378180</td>\n    </tr>\n    <tr>\n      <th>10</th>\n      <td>M6B</td>\n      <td>North York</td>\n      <td>Glencairn</td>\n      <td>43.707990</td>\n      <td>-79.448367</td>\n    </tr>\n    <tr>\n      <th>11</th>\n      <td>M9B</td>\n      <td>Etobicoke</td>\n      <td>Cloverdale,Islington,Martin Grove,Princess Gardens,West Deane Park</td>\n      <td>43.649692</td>\n      <td>-79.553945</td>\n    </tr>\n    <tr>\n      <th>12</th>\n      <td>M1C</td>\n      <td>Scarborough</td>\n      <td>Highland Creek,Rouge Hill,Port Union</td>\n      <td>43.785730</td>\n      <td>-79.158750</td>\n    </tr>\n    <tr>\n      <th>13</th>\n      <td>M3C</td>\n      <td>North York</td>\n      <td>Flemingdon Park,Don Mills South</td>\n      <td>43.721425</td>\n      <td>-79.343453</td>\n    </tr>\n    <tr>\n      <th>14</th>\n      <td>M4C</td>\n      <td>East York</td>\n      <td>Woodbine Heights</td>\n      <td>43.689665</td>\n      <td>-79.307169</td>\n    </tr>\n    <tr>\n      <th>15</th>\n      <td>M5C</td>\n      <td>Downtown Toronto</td>\n      <td>St. James Town</td>\n      <td>43.651210</td>\n      <td>-79.375481</td>\n    </tr>\n    <tr>\n      <th>16</th>\n      <td>M6C</td>\n      <td>York</td>\n      <td>Humewood-Cedarvale</td>\n      <td>43.692105</td>\n      <td>-79.430355</td>\n    </tr>\n    <tr>\n      <th>17</th>\n      <td>M9C</td>\n      <td>Etobicoke</td>\n      <td>Bloordale Gardens,Eringate,Markland Wood,Old Burnhamthorpe</td>\n      <td>43.648573</td>\n      <td>-79.578250</td>\n    </tr>\n    <tr>\n      <th>18</th>\n      <td>M1E</td>\n      <td>Scarborough</td>\n      <td>Guildwood,Morningside,West Hill</td>\n      <td>43.765690</td>\n      <td>-79.175256</td>\n    </tr>\n    <tr>\n      <th>19</th>\n      <td>M4E</td>\n      <td>East Toronto</td>\n      <td>The Beaches</td>\n      <td>43.676845</td>\n      <td>-79.295225</td>\n    </tr>\n    <tr>\n      <th>20</th>\n      <td>M5E</td>\n      <td>Downtown Toronto</td>\n      <td>Berczy Park</td>\n      <td>43.645160</td>\n      <td>-79.373675</td>\n    </tr>\n    <tr>\n      <th>21</th>\n      <td>M6E</td>\n      <td>York</td>\n      <td>Caledonia-Fairbanks</td>\n      <td>43.688640</td>\n      <td>-79.451015</td>\n    </tr>\n    <tr>\n      <th>22</th>\n      <td>M1G</td>\n      <td>Scarborough</td>\n      <td>Woburn</td>\n      <td>43.768359</td>\n      <td>-79.217590</td>\n    </tr>\n    <tr>\n      <th>23</th>\n      <td>M4G</td>\n      <td>East York</td>\n      <td>Leaside</td>\n      <td>43.709765</td>\n      <td>-79.363901</td>\n    </tr>\n    <tr>\n      <th>24</th>\n      <td>M5G</td>\n      <td>Downtown Toronto</td>\n      <td>Central Bay Street</td>\n      <td>43.656091</td>\n      <td>-79.384930</td>\n    </tr>\n    <tr>\n      <th>25</th>\n      <td>M6G</td>\n      <td>Downtown Toronto</td>\n      <td>Christie</td>\n      <td>43.668781</td>\n      <td>-79.420710</td>\n    </tr>\n    <tr>\n      <th>26</th>\n      <td>M1H</td>\n      <td>Scarborough</td>\n      <td>Cedarbrae</td>\n      <td>43.769688</td>\n      <td>-79.239440</td>\n    </tr>\n    <tr>\n      <th>27</th>\n      <td>M2H</td>\n      <td>North York</td>\n      <td>Hillcrest Village</td>\n      <td>43.802845</td>\n      <td>-79.356236</td>\n    </tr>\n    <tr>\n      <th>28</th>\n      <td>M3H</td>\n      <td>North York</td>\n      <td>Bathurst Manor,Downsview North,Wilson Heights</td>\n      <td>43.757565</td>\n      <td>-79.448191</td>\n    </tr>\n    <tr>\n      <th>29</th>\n      <td>M4H</td>\n      <td>East York</td>\n      <td>Thorncliffe Park</td>\n      <td>43.701270</td>\n      <td>-79.349844</td>\n    </tr>\n  </tbody>\n</table>\n</div>", 
                        "text/plain": "   Postcode           Borough  \\\n0   M3A      North York         \n1   M4A      North York         \n2   M5A      Downtown Toronto   \n3   M6A      North York         \n4   M7A      Queen's Park       \n5   M9A      Etobicoke          \n6   M1B      Scarborough        \n7   M3B      North York         \n8   M4B      East York          \n9   M5B      Downtown Toronto   \n10  M6B      North York         \n11  M9B      Etobicoke          \n12  M1C      Scarborough        \n13  M3C      North York         \n14  M4C      East York          \n15  M5C      Downtown Toronto   \n16  M6C      York               \n17  M9C      Etobicoke          \n18  M1E      Scarborough        \n19  M4E      East Toronto       \n20  M5E      Downtown Toronto   \n21  M6E      York               \n22  M1G      Scarborough        \n23  M4G      East York          \n24  M5G      Downtown Toronto   \n25  M6G      Downtown Toronto   \n26  M1H      Scarborough        \n27  M2H      North York         \n28  M3H      North York         \n29  M4H      East York          \n\n                                                         Neighbourhood  \\\n0   Parkwoods                                                            \n1   Victoria Village                                                     \n2   Harbourfront,Regent Park                                             \n3   Lawrence Heights,Lawrence Manor                                      \n4   Queen's Park                                                         \n5   Islington Avenue                                                     \n6   Rouge,Malvern                                                        \n7   Don Mills North                                                      \n8   Woodbine Gardens,Parkview Hill                                       \n9   Ryerson,Garden District                                              \n10  Glencairn                                                            \n11  Cloverdale,Islington,Martin Grove,Princess Gardens,West Deane Park   \n12  Highland Creek,Rouge Hill,Port Union                                 \n13  Flemingdon Park,Don Mills South                                      \n14  Woodbine Heights                                                     \n15  St. James Town                                                       \n16  Humewood-Cedarvale                                                   \n17  Bloordale Gardens,Eringate,Markland Wood,Old Burnhamthorpe           \n18  Guildwood,Morningside,West Hill                                      \n19  The Beaches                                                          \n20  Berczy Park                                                          \n21  Caledonia-Fairbanks                                                  \n22  Woburn                                                               \n23  Leaside                                                              \n24  Central Bay Street                                                   \n25  Christie                                                             \n26  Cedarbrae                                                            \n27  Hillcrest Village                                                    \n28  Bathurst Manor,Downsview North,Wilson Heights                        \n29  Thorncliffe Park                                                     \n\n     Latitude  Longitude  \n0   43.752440 -79.329271  \n1   43.730421 -79.313320  \n2   43.655120 -79.362640  \n3   43.723125 -79.451589  \n4   43.661102 -79.391035  \n5   43.662242 -79.528379  \n6   43.811525 -79.195517  \n7   43.749195 -79.361905  \n8   43.707535 -79.311773  \n9   43.657363 -79.378180  \n10  43.707990 -79.448367  \n11  43.649692 -79.553945  \n12  43.785730 -79.158750  \n13  43.721425 -79.343453  \n14  43.689665 -79.307169  \n15  43.651210 -79.375481  \n16  43.692105 -79.430355  \n17  43.648573 -79.578250  \n18  43.765690 -79.175256  \n19  43.676845 -79.295225  \n20  43.645160 -79.373675  \n21  43.688640 -79.451015  \n22  43.768359 -79.217590  \n23  43.709765 -79.363901  \n24  43.656091 -79.384930  \n25  43.668781 -79.420710  \n26  43.769688 -79.239440  \n27  43.802845 -79.356236  \n28  43.757565 -79.448191  \n29  43.701270 -79.349844  "
                    }, 
                    "output_type": "execute_result"
                }
            ], 
            "source": "pcdata_new.head(30)"
        }, 
        {
            "execution_count": null, 
            "cell_type": "code", 
            "metadata": {}, 
            "outputs": [], 
            "source": ""
        }
    ], 
    "metadata": {
        "kernelspec": {
            "display_name": "Python 3.6", 
            "name": "python3", 
            "language": "python"
        }, 
        "language_info": {
            "mimetype": "text/x-python", 
            "nbconvert_exporter": "python", 
            "version": "3.6.8", 
            "name": "python", 
            "file_extension": ".py", 
            "pygments_lexer": "ipython3", 
            "codemirror_mode": {
                "version": 3, 
                "name": "ipython"
            }
        }
    }, 
    "nbformat": 4
}