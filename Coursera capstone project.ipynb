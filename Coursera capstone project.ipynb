{
    "nbformat_minor": 1, 
    "cells": [
        {
            "source": "# Notebook for Coursera Capstone project", 
            "cell_type": "markdown", 
            "metadata": {
                "collapsed": true
            }
        }, 
        {
            "execution_count": 9, 
            "cell_type": "code", 
            "metadata": {}, 
            "outputs": [], 
            "source": "# import libs\nimport numpy as np  # useful for many scientific computing in Python\nimport pandas as pd # primary data structure library"
        }, 
        {
            "execution_count": 3, 
            "cell_type": "code", 
            "metadata": {}, 
            "outputs": [
                {
                    "output_type": "stream", 
                    "name": "stdout", 
                    "text": "Hello Capstone Project Course!\n"
                }
            ], 
            "source": "print(\"Hello Capstone Project Course!\")"
        }, 
        {
            "execution_count": 10, 
            "cell_type": "code", 
            "metadata": {}, 
            "outputs": [
                {
                    "output_type": "stream", 
                    "name": "stdout", 
                    "text": "https://jp-tok.dataplatform.cloud.ibm.com/analytics/notebooks/v2/1f93ac15-f21b-449c-b6da-ac9ed73e778a/view?access_token=25d992bd79bc2469e5a1a6f3ebb529d4e3e3d7fa53822dd1dae17ff79a45995c\n"
                }
            ], 
            "source": "# watson studio share link\nprint(\"https://jp-tok.dataplatform.cloud.ibm.com/analytics/notebooks/v2/1f93ac15-f21b-449c-b6da-ac9ed73e778a/view?access_token=25d992bd79bc2469e5a1a6f3ebb529d4e3e3d7fa53822dd1dae17ff79a45995c\")"
        }, 
        {
            "execution_count": null, 
            "cell_type": "code", 
            "metadata": {}, 
            "outputs": [], 
            "source": ""
        }
    ], 
    "metadata": {
        "kernelspec": {
            "display_name": "Python 3.6", 
            "name": "python3", 
            "language": "python"
        }, 
        "language_info": {
            "mimetype": "text/x-python", 
            "nbconvert_exporter": "python", 
            "version": "3.6.8", 
            "name": "python", 
            "file_extension": ".py", 
            "pygments_lexer": "ipython3", 
            "codemirror_mode": {
                "version": 3, 
                "name": "ipython"
            }
        }
    }, 
    "nbformat": 4
}